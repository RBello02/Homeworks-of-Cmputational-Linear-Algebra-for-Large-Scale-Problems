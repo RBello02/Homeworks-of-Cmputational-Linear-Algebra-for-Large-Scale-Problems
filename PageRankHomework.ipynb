{
 "cells": [
  {
   "cell_type": "markdown",
   "id": "b74bbffd-773f-4d36-82e3-efa45214151c",
   "metadata": {},
   "source": [
    "### Exercise 1\n",
    "Given the graph \n"
   ]
  },
  {
   "cell_type": "code",
   "execution_count": null,
   "id": "a933c88a-bcf1-471f-b20e-100e98a1b3c7",
   "metadata": {},
   "outputs": [],
   "source": []
  }
 ],
 "metadata": {
  "kernelspec": {
   "display_name": "Python (venv)",
   "language": "python",
   "name": "venv"
  },
  "language_info": {
   "codemirror_mode": {
    "name": "ipython",
    "version": 3
   },
   "file_extension": ".py",
   "mimetype": "text/x-python",
   "name": "python",
   "nbconvert_exporter": "python",
   "pygments_lexer": "ipython3",
   "version": "3.12.2"
  }
 },
 "nbformat": 4,
 "nbformat_minor": 5
}
