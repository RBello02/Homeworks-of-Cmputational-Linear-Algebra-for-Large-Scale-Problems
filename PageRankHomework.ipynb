{
 "cells": [
  {
   "cell_type": "markdown",
   "id": "b74bbffd-773f-4d36-82e3-efa45214151c",
   "metadata": {},
   "source": [
    "### Exercise 1\n",
    "Considering the following graph:\n",
    "<div style=\"text-align: center;\">\n",
    "    <img src=\"Graphs_Images/Graph_1.png\" width=\"200\" style=\"border: 3px solid white; border-radius: 10px;\">\n",
    "</div>\n",
    "\n",
    "It's possible to compute the score:\n",
    "$$\n",
    "x_k = \\sum_{j\\in L_k}\\frac{x_j}{n_j} \\quad \\forall k\\in \\{1,2,3,4\\}\n",
    "$$\n",
    "It can be done in a compact form using matrices:\n",
    "$$\n",
    "\\mathbf{x}^T\\mathbf{A} = \\mathbf{x} \\implies (\\mathbf{A}^T-\\mathbf{I_d})\\mathbf{x} = \\mathbf{0}\n",
    "$$\n",
    "Where $\\mathbf{A}\\in\\mathbb{R}^{4\\times4}$ is the **Adjacency Matrix** of the graph."
   ]
  },
  {
   "cell_type": "code",
   "execution_count": 1,
   "id": "a933c88a-bcf1-471f-b20e-100e98a1b3c7",
   "metadata": {},
   "outputs": [],
   "source": [
    "import numpy as np\n",
    "\n",
    "A1 = np.array([\n",
    "    [0, 0, 1, 1/2],\n",
    "    [1/3, 0, 0, 0],\n",
    "    [1/3, 1/2, 0, 1/2], \n",
    "    [1/3, 1/2, 0, 0]\n",
    "])\n"
   ]
  }
 ],
 "metadata": {
  "kernelspec": {
   "display_name": "Python (venv)",
   "language": "python",
   "name": "venv"
  },
  "language_info": {
   "codemirror_mode": {
    "name": "ipython",
    "version": 3
   },
   "file_extension": ".py",
   "mimetype": "text/x-python",
   "name": "python",
   "nbconvert_exporter": "python",
   "pygments_lexer": "ipython3",
   "version": "3.12.2"
  }
 },
 "nbformat": 4,
 "nbformat_minor": 5
}
