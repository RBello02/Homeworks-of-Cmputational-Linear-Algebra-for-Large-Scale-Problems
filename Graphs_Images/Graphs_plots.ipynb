{
 "cells": [
  {
   "cell_type": "code",
   "execution_count": 12,
   "id": "bd85bae4-4666-48ad-82c0-a38d9f325ee4",
   "metadata": {},
   "outputs": [
    {
     "ename": "SyntaxError",
     "evalue": "invalid syntax. Perhaps you forgot a comma? (69077626.py, line 28)",
     "output_type": "error",
     "traceback": [
      "  \u001b[36mCell\u001b[39m\u001b[36m \u001b[39m\u001b[32mIn[12]\u001b[39m\u001b[32m, line 28\u001b[39m\n\u001b[31m    \u001b[39m\u001b[31mplt.savefig(r\"Graphs_Images\\Graph_1.png\" format=\"png\", dpi=300, bbox_inches=\"tight\")\u001b[39m\n                ^\n\u001b[31mSyntaxError\u001b[39m\u001b[31m:\u001b[39m invalid syntax. Perhaps you forgot a comma?\n"
     ]
    }
   ],
   "source": [
    "import networkx as nx\n",
    "import matplotlib.pyplot as plt\n",
    "import numpy as np\n",
    "\n",
    "A = np.array([\n",
    "    [0, 0, 1, 1],\n",
    "    [1, 0, 0, 0],\n",
    "    [1, 1, 0, 1],\n",
    "    [1, 1, 0, 0]\n",
    "])\n",
    "\n",
    "G = nx.from_numpy_array(A, create_using=nx.DiGraph)\n",
    "\n",
    "# print\n",
    "plt.figure(figsize=(3, 3))\n",
    "pos = nx.kamada_kawai_layout(G)  \n",
    "nx.draw(\n",
    "    G, pos,\n",
    "    with_labels=True,\n",
    "    node_color='lightgreen',\n",
    "    node_size=700,\n",
    "    arrows=True,\n",
    "    arrowsize=20,\n",
    "    font_weight='bold'\n",
    ")\n",
    "plt.title(\"Graph 1\")\n",
    "\n",
    "plt.savefig(r\"Graphs_Images\\Graph_1.png\" format=\"png\", dpi=300, bbox_inches=\"tight\")\n",
    "\n",
    "plt.show()\n"
   ]
  },
  {
   "cell_type": "code",
   "execution_count": null,
   "id": "9d58ce81-2635-4aa9-a6d4-84abbc663d6c",
   "metadata": {},
   "outputs": [],
   "source": []
  }
 ],
 "metadata": {
  "kernelspec": {
   "display_name": "Python (venv)",
   "language": "python",
   "name": "venv"
  },
  "language_info": {
   "codemirror_mode": {
    "name": "ipython",
    "version": 3
   },
   "file_extension": ".py",
   "mimetype": "text/x-python",
   "name": "python",
   "nbconvert_exporter": "python",
   "pygments_lexer": "ipython3",
   "version": "3.12.2"
  }
 },
 "nbformat": 4,
 "nbformat_minor": 5
}
