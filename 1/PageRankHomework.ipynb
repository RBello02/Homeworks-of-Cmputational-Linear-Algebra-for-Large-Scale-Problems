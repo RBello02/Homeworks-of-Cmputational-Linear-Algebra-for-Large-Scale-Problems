{
 "cells": [
  {
   "cell_type": "code",
   "execution_count": 2,
   "id": "14166aac-8dd3-4a48-afc2-67647f21dc95",
   "metadata": {},
   "outputs": [],
   "source": [
    "import numpy as np\n",
    "\n",
    "import sys\n",
    "import os\n",
    "sys.path.append(os.path.abspath('..'))\n",
    "\n",
    "# useful factorization\n",
    "from Factorizations.PLU_Decomposition import PLU_Decomposition\n",
    "\n",
    "# useful solver for linear systems"
   ]
  },
  {
   "cell_type": "markdown",
   "id": "b74bbffd-773f-4d36-82e3-efa45214151c",
   "metadata": {},
   "source": [
    "### Exercise 1\n",
    "Considering the following graph:\n",
    "<div style=\"text-align: center;\">\n",
    "    <img src=\"Graphs_Images/Graph_1.png\" width=\"200\" style=\"border: 3px solid white; border-radius: 10px;\">\n",
    "</div>\n",
    "\n",
    "It's possible to compute the score:\n",
    "$$\n",
    "x_k = \\sum_{j\\in L_k}\\frac{x_j}{n_j} \\quad \\forall k\\in \\{1,2,3,4\\}\\quad (1) \n",
    "$$\n",
    "Where $L_k$ is the set of the nodes with a direct arc coming into k, $n_j$ is the number of direct arc that starts from the node $j$ and $x_k$ is the score for the node $k$. \n",
    "\n",
    "The equation (1) can be expressed in it's matricial form:\n",
    "$$\n",
    "\\mathbf{x}^T\\mathbf{A} = \\mathbf{x} \\implies (\\mathbf{A}^T-\\mathbf{I_d})\\mathbf{x} = \\mathbf{0}\n",
    "$$\n",
    "Where $\\mathbf{A}\\in\\mathbb{R}^{4\\times4}$ is the **Weighted Adjacency Matrix** of the graph.\n",
    "$$\n",
    "A =\n",
    "\\begin{bmatrix}\n",
    "0 & 0 & 1 & \\frac{1}{2} \\\\\n",
    "\\frac{1}{3} & 0 & 0 & 0 \\\\\n",
    "\\frac{1}{3} & \\frac{1}{2} & 0 & \\frac{1}{2} \\\\\n",
    "\\frac{1}{3} & \\frac{1}{2} & 0 & 0\n",
    "\\end{bmatrix} \\quad (2)\n",
    "$$"
   ]
  },
  {
   "cell_type": "code",
   "execution_count": 3,
   "id": "a933c88a-bcf1-471f-b20e-100e98a1b3c7",
   "metadata": {},
   "outputs": [
    {
     "name": "stdout",
     "output_type": "stream",
     "text": [
      "L:\n",
      " [[1. 0. 0. 0.]\n",
      " [1. 1. 0. 0.]\n",
      " [0. 0. 1. 0.]\n",
      " [1. 1. 0. 1.]]\n",
      "U:\n",
      " [[ 0.33333333  0.          0.          0.        ]\n",
      " [ 0.          0.5         0.          0.5       ]\n",
      " [ 0.          0.          1.          0.5       ]\n",
      " [ 0.          0.          0.         -0.5       ]]\n",
      "P:\n",
      " [[0. 1. 0. 0.]\n",
      " [0. 0. 1. 0.]\n",
      " [1. 0. 0. 0.]\n",
      " [0. 0. 0. 1.]]\n",
      "Difference ||PA - LU|| =\n",
      " 0.0\n"
     ]
    }
   ],
   "source": [
    "\n",
    "A1 = np.array([\n",
    "    [0, 0, 1, 1/2],\n",
    "    [1/3, 0, 0, 0],\n",
    "    [1/3, 1/2, 0, 1/2], \n",
    "    [1/3, 1/2, 0, 0]\n",
    "])\n",
    "\n",
    "P,L,U, norm = PLU_Decomposition(A1)\n",
    "print(\"L:\\n\", L)\n",
    "print(\"U:\\n\", U)\n",
    "print(\"P:\\n\", P)\n",
    "print(\"Difference ||PA - LU|| =\\n\",norm)\n"
   ]
  }
 ],
 "metadata": {
  "kernelspec": {
   "display_name": "venv",
   "language": "python",
   "name": "python3"
  },
  "language_info": {
   "codemirror_mode": {
    "name": "ipython",
    "version": 3
   },
   "file_extension": ".py",
   "mimetype": "text/x-python",
   "name": "python",
   "nbconvert_exporter": "python",
   "pygments_lexer": "ipython3",
   "version": "3.12.2"
  }
 },
 "nbformat": 4,
 "nbformat_minor": 5
}
